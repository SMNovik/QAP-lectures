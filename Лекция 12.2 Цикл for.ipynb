{
 "cells": [
  {
   "cell_type": "code",
   "execution_count": 1,
   "metadata": {},
   "outputs": [
    {
     "name": "stdout",
     "output_type": "stream",
     "text": [
      "Шаг цикла 1, значение j = 1\n",
      "Шаг цикла 2, значение j = 2\n",
      "Шаг цикла 3, значение j = текст\n",
      "Шаг цикла 4, значение j = True\n",
      "Шаг цикла 5, значение j = [3, 45]\n"
     ]
    }
   ],
   "source": [
    "i = 1\n",
    "a = [1, 2, 'текст', True, [3, 45]]\n",
    "\n",
    "for j in a:\n",
    "    print (f'Шаг цикла {i}, значение j = {j}')\n",
    "    i += 1"
   ]
  },
  {
   "cell_type": "code",
   "execution_count": 2,
   "metadata": {},
   "outputs": [
    {
     "name": "stdout",
     "output_type": "stream",
     "text": [
      "Шаг цикла 1, значение = 1\n",
      "Шаг цикла 2, значение = 2\n",
      "Шаг цикла 3, значение = текст\n",
      "Шаг цикла 4, значение = True\n",
      "Шаг цикла 5, значение = [3, 45]\n"
     ]
    }
   ],
   "source": [
    "i = 0\n",
    "a = [1, 2, 'текст', True, [3, 45]]\n",
    "\n",
    "\n",
    "while i < len(a):\n",
    "    print (f'Шаг цикла {i + 1}, значение = {a[i]}')\n",
    "    i += 1"
   ]
  },
  {
   "cell_type": "code",
   "execution_count": 3,
   "metadata": {},
   "outputs": [
    {
     "name": "stdout",
     "output_type": "stream",
     "text": [
      "с\n",
      "т\n",
      "р\n",
      "о\n",
      "к\n",
      "а\n"
     ]
    }
   ],
   "source": [
    "a = 'строка'\n",
    "\n",
    "for i in a:\n",
    "    print (i)"
   ]
  },
  {
   "cell_type": "code",
   "execution_count": 4,
   "metadata": {},
   "outputs": [
    {
     "name": "stdout",
     "output_type": "stream",
     "text": [
      "<class 'range'>\n",
      "range(0, 5)\n",
      "range(2, 5)\n",
      "range(1, 10, 3)\n"
     ]
    }
   ],
   "source": [
    "a = range(5)\n",
    "b = range(2, 5)\n",
    "c = range(1, 10, 3)\n",
    "\n",
    "print (type(range(1)))\n",
    "print (a)\n",
    "print (b)\n",
    "print (c)"
   ]
  },
  {
   "cell_type": "code",
   "execution_count": 5,
   "metadata": {},
   "outputs": [
    {
     "name": "stdout",
     "output_type": "stream",
     "text": [
      "0\n",
      "1\n",
      "2\n",
      "3\n",
      "4\n"
     ]
    }
   ],
   "source": [
    "for i in a:\n",
    "    print (i)"
   ]
  },
  {
   "cell_type": "code",
   "execution_count": 6,
   "metadata": {},
   "outputs": [
    {
     "name": "stdout",
     "output_type": "stream",
     "text": [
      "2\n",
      "3\n",
      "4\n"
     ]
    }
   ],
   "source": [
    "for i in b:\n",
    "    print (i)"
   ]
  },
  {
   "cell_type": "code",
   "execution_count": 7,
   "metadata": {},
   "outputs": [
    {
     "name": "stdout",
     "output_type": "stream",
     "text": [
      "1\n",
      "4\n",
      "7\n"
     ]
    }
   ],
   "source": [
    "for i in c:\n",
    "    print (i)"
   ]
  },
  {
   "cell_type": "code",
   "execution_count": 8,
   "metadata": {},
   "outputs": [
    {
     "name": "stdout",
     "output_type": "stream",
     "text": [
      "0\n",
      "1\n",
      "3\n",
      "---------------\n",
      "Достижимый print\n"
     ]
    }
   ],
   "source": [
    "for i in range(10):\n",
    "    if i == 2:\n",
    "        continue\n",
    "    elif i == 4:\n",
    "        break\n",
    "    print (i)\n",
    "else:\n",
    "    print('Недостижимый print')\n",
    "    \n",
    "print ('---------------')\n",
    "\n",
    "z = 4\n",
    "\n",
    "for i in [1, 2, 3]:\n",
    "    if i == z:\n",
    "        print (i)\n",
    "else:\n",
    "    print('Достижимый print')"
   ]
  },
  {
   "cell_type": "code",
   "execution_count": 9,
   "metadata": {},
   "outputs": [
    {
     "name": "stdout",
     "output_type": "stream",
     "text": [
      "Самый частый знак тексте: \"e\"\n"
     ]
    }
   ],
   "source": [
    "text = \"\"\"Lorem ipsum dolor sit amet, consectetur adipiscing elit. Vestibulum eget tempus est. Phasellus sit amet \n",
    "tristique neque. Sed luctus mi ut nisi suscipit placerat. Nunc nec diam dapibus, fermentum risus ut, ultrices orci. \n",
    "Integer non magna molestie nibh dapibus tincidunt. Quisque quis est quam. Sed dictum mi sit amet magna pretium blandit. \n",
    "Nulla tortor turpis, maximus vitae lobortis quis, varius sed metus. Nullam at congue metus. Pellentesque scelerisque, dui \n",
    "et luctus semper, odio diam scelerisque justo, nec tempor ex metus et enim. Praesent rhoncus nisl eget risus elementum ornare. \n",
    "Praesent tellus mauris, viverra vitae malesuada at, ornare id nisi. Vestibulum.\"\"\"\n",
    "\n",
    "text = text.replace(\" \", \"\").lower()\n",
    "\n",
    "most_common = None\n",
    "qty_most_common = 0\n",
    "\n",
    "for item in text:\n",
    "    qty = text.count(item)\n",
    "    if qty > qty_most_common:\n",
    "        qty_most_common = qty\n",
    "        most_common = item\n",
    "\n",
    "print(f'Самый частый знак тексте: \"{most_common}\"')"
   ]
  },
  {
   "cell_type": "code",
   "execution_count": 10,
   "metadata": {},
   "outputs": [
    {
     "name": "stdout",
     "output_type": "stream",
     "text": [
      "Самый частый знак тексте: \"2\"\n"
     ]
    }
   ],
   "source": [
    "text = [1, 2, 2, 1, 5, 6, 2, 4, 5, 6, 8, 9, 100]\n",
    "\n",
    "text_set = set(text)\n",
    "\n",
    "most_common = None\n",
    "qty_most_common = 0\n",
    "\n",
    "for item in text_set:\n",
    "    qty = text.count(item)\n",
    "    if qty > qty_most_common:\n",
    "        qty_most_common = qty\n",
    "        most_common = item\n",
    "\n",
    "print(f'Самый частый знак тексте: \"{most_common}\"')"
   ]
  }
 ],
 "metadata": {
  "kernelspec": {
   "display_name": "Python 3",
   "language": "python",
   "name": "python3"
  },
  "language_info": {
   "codemirror_mode": {
    "name": "ipython",
    "version": 3
   },
   "file_extension": ".py",
   "mimetype": "text/x-python",
   "name": "python",
   "nbconvert_exporter": "python",
   "pygments_lexer": "ipython3",
   "version": "3.8.3rc1"
  }
 },
 "nbformat": 4,
 "nbformat_minor": 4
}
