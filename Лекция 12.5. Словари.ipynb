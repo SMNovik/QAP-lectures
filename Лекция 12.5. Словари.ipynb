{
 "cells": [
  {
   "cell_type": "code",
   "execution_count": 1,
   "metadata": {},
   "outputs": [
    {
     "name": "stdout",
     "output_type": "stream",
     "text": [
      "{'ключ1': 123, 'name': 'aaa'}\n"
     ]
    }
   ],
   "source": [
    "a = {'ключ1': 123, 'name': 'aaa'}\n",
    "print(a)"
   ]
  },
  {
   "cell_type": "code",
   "execution_count": 2,
   "metadata": {},
   "outputs": [
    {
     "name": "stdout",
     "output_type": "stream",
     "text": [
      "123\n"
     ]
    }
   ],
   "source": [
    "print(a['ключ1'])"
   ]
  },
  {
   "cell_type": "code",
   "execution_count": 3,
   "metadata": {},
   "outputs": [
    {
     "name": "stdout",
     "output_type": "stream",
     "text": [
      "{'ключ2': 2, 'name': 'ooo'}\n"
     ]
    }
   ],
   "source": [
    "b = dict(ключ2=2, name='ooo')\n",
    "print(b)"
   ]
  },
  {
   "cell_type": "code",
   "execution_count": 4,
   "metadata": {},
   "outputs": [
    {
     "name": "stdout",
     "output_type": "stream",
     "text": [
      "ooo\n"
     ]
    }
   ],
   "source": [
    "print(b['name'])"
   ]
  },
  {
   "cell_type": "code",
   "execution_count": 5,
   "metadata": {},
   "outputs": [
    {
     "name": "stdout",
     "output_type": "stream",
     "text": [
      "{'ключ1': 123, 'name': 'aaa', 'новый ключ с большим ключом': [1, 2, 3]}\n"
     ]
    }
   ],
   "source": [
    "a['новый ключ с большим ключом'] = [1, 2, 3]\n",
    "print(a)"
   ]
  },
  {
   "cell_type": "code",
   "execution_count": 6,
   "metadata": {},
   "outputs": [
    {
     "name": "stdout",
     "output_type": "stream",
     "text": [
      "{'ключ1': 'cnhjrf', 'name': 'aaa', 'новый ключ с большим ключом': [1, 2, 3]}\n"
     ]
    }
   ],
   "source": [
    "a['ключ1'] = 'cnhjrf'\n",
    "print(a)"
   ]
  },
  {
   "cell_type": "code",
   "execution_count": 7,
   "metadata": {},
   "outputs": [
    {
     "name": "stdout",
     "output_type": "stream",
     "text": [
      "True \n",
      "None\n"
     ]
    }
   ],
   "source": [
    "a = {'ключ1': 123, 'name': True, 'новый ключ с большим ключом': [1, 2, 3]}\n",
    "print(f\"{a['name']} \\n{a.get('11111')}\")"
   ]
  },
  {
   "cell_type": "code",
   "execution_count": 8,
   "metadata": {},
   "outputs": [
    {
     "name": "stdout",
     "output_type": "stream",
     "text": [
      "('новый ключ с большим ключом', [1, 2, 3]) \n",
      "{'ключ1': 123, 'name': True}\n"
     ]
    }
   ],
   "source": [
    "a = {'ключ1': 123, 'name': True, 'новый ключ с большим ключом': [1, 2, 3]}\n",
    "print(f\"{a.popitem()} \\n{a}\")"
   ]
  },
  {
   "cell_type": "code",
   "execution_count": 9,
   "metadata": {},
   "outputs": [],
   "source": [
    "a = {'ключ1': 123, 'name': True, 'новый ключ с большим ключом': [1, 2, 3]}"
   ]
  },
  {
   "cell_type": "code",
   "execution_count": 10,
   "metadata": {},
   "outputs": [
    {
     "name": "stdout",
     "output_type": "stream",
     "text": [
      "dict_keys(['ключ1', 'name', 'новый ключ с большим ключом'])\n",
      "\n",
      "ключ1\n",
      "name\n",
      "новый ключ с большим ключом\n"
     ]
    }
   ],
   "source": [
    "keys = a.keys()\n",
    "print(keys, end='\\n\\n')\n",
    "\n",
    "for i in keys:\n",
    "    print (i)"
   ]
  },
  {
   "cell_type": "code",
   "execution_count": 11,
   "metadata": {},
   "outputs": [
    {
     "name": "stdout",
     "output_type": "stream",
     "text": [
      "dict_values([123, True, [1, 2, 3]])\n",
      "\n",
      "123\n",
      "True\n",
      "[1, 2, 3]\n"
     ]
    }
   ],
   "source": [
    "values = a.values()\n",
    "\n",
    "print(values, end='\\n\\n')\n",
    "\n",
    "for i in values:\n",
    "    print (i)"
   ]
  },
  {
   "cell_type": "code",
   "execution_count": 12,
   "metadata": {},
   "outputs": [
    {
     "name": "stdout",
     "output_type": "stream",
     "text": [
      "dict_items([('ключ1', 123), ('name', True), ('новый ключ с большим ключом', [1, 2, 3])])\n",
      "\n",
      "('ключ1', 123)\n",
      "('name', True)\n",
      "('новый ключ с большим ключом', [1, 2, 3])\n"
     ]
    }
   ],
   "source": [
    "items = a.items()\n",
    "\n",
    "print(items, end='\\n\\n')\n",
    "\n",
    "for i in items:\n",
    "    print (i)"
   ]
  },
  {
   "cell_type": "code",
   "execution_count": null,
   "metadata": {},
   "outputs": [],
   "source": []
  }
 ],
 "metadata": {
  "kernelspec": {
   "display_name": "Python 3",
   "language": "python",
   "name": "python3"
  },
  "language_info": {
   "codemirror_mode": {
    "name": "ipython",
    "version": 3
   },
   "file_extension": ".py",
   "mimetype": "text/x-python",
   "name": "python",
   "nbconvert_exporter": "python",
   "pygments_lexer": "ipython3",
   "version": "3.8.3rc1"
  }
 },
 "nbformat": 4,
 "nbformat_minor": 4
}
